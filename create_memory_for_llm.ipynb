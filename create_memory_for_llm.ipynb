{
 "cells": [
  {
   "cell_type": "code",
   "execution_count": null,
   "id": "6566aa32",
   "metadata": {},
   "outputs": [],
   "source": [
    "!pip install langchain\n",
    "!pip install langchain-huggingface\n",
    "!pip install langchain_community"
   ]
  },
  {
   "cell_type": "code",
   "execution_count": null,
   "id": "01eb7b59",
   "metadata": {},
   "outputs": [],
   "source": [
    "!pip install transformers\n",
    "!pip install torch\n",
    "!pip install accelerate\n"
   ]
  },
  {
   "cell_type": "code",
   "execution_count": 2,
   "id": "4f480136",
   "metadata": {},
   "outputs": [],
   "source": [
    "from langchain_community.document_loaders import PyPDFLoader, DirectoryLoader\n",
    "from langchain.text_splitter import RecursiveCharacterTextSplitter\n",
    "DATA_PATH = \"data/\""
   ]
  },
  {
   "cell_type": "code",
   "execution_count": 4,
   "id": "8475a34d",
   "metadata": {},
   "outputs": [],
   "source": [
    "def load_pdf_files(data):\n",
    "    loader = DirectoryLoader(\n",
    "        data,\n",
    "        glob=\"*.pdf\",\n",
    "        loader_cls=PyPDFLoader\n",
    "    )\n",
    "\n",
    "    documents = loader.load()\n",
    "    return documents"
   ]
  },
  {
   "cell_type": "code",
   "execution_count": 5,
   "id": "2bf387f1",
   "metadata": {},
   "outputs": [
    {
     "name": "stdout",
     "output_type": "stream",
     "text": [
      "Length of PDF pages:  4505\n"
     ]
    }
   ],
   "source": [
    "\n",
    "documents = load_pdf_files(data=DATA_PATH)\n",
    "print(\"Length of PDF pages: \", len(documents))"
   ]
  },
  {
   "cell_type": "code",
   "execution_count": 6,
   "id": "74e11380",
   "metadata": {},
   "outputs": [
    {
     "name": "stdout",
     "output_type": "stream",
     "text": [
      "Length of TEXT CHUNKS:  41255\n"
     ]
    }
   ],
   "source": [
    "def create_chunks(extracted_data):\n",
    "    text_splitter=RecursiveCharacterTextSplitter(chunk_size=500, chunk_overlap=50)\n",
    "    text_chunks=text_splitter.split_documents(extracted_data)\n",
    "    return text_chunks\n",
    "\n",
    "text_chunks=create_chunks(extracted_data=documents)\n",
    "print(\"Length of TEXT CHUNKS: \", len(text_chunks))"
   ]
  },
  {
   "cell_type": "code",
   "execution_count": 7,
   "id": "8c9d77d4",
   "metadata": {},
   "outputs": [],
   "source": [
    "from langchain_huggingface import HuggingFaceEmbeddings\n",
    "def get_embedding_model():\n",
    "    embeding_model=HuggingFaceEmbeddings(model_name=\"sentence-transformers/all-MiniLM-L6-v2\")\n",
    "    return embeding_model\n",
    "\n",
    "embeding_model=get_embedding_model()"
   ]
  },
  {
   "cell_type": "code",
   "execution_count": 8,
   "id": "f4a48262",
   "metadata": {},
   "outputs": [],
   "source": [
    "from langchain_community.vectorstores import FAISS \n",
    "\n",
    "# Step 4: Store embeddings in FAISS\n",
    "DB_FAISS_PATH = \"vectorstore/db_faiss\"\n",
    "db = FAISS.from_documents(text_chunks, embeding_model)\n",
    "db.save_local(DB_FAISS_PATH)\n"
   ]
  },
  {
   "cell_type": "code",
   "execution_count": 10,
   "id": "0e38e60d",
   "metadata": {},
   "outputs": [
    {
     "name": "stdout",
     "output_type": "stream",
     "text": [
      "Document 1:\n",
      "cells and tissues develop.\n",
      "Cancer— A process where abnormal cells within\n",
      "the body begin to grow out of control, acquire the\n",
      "ability to invade nearby structures, and travel\n",
      "through the bloodstream in order to invade distant\n",
      "structures.\n",
      "Malignant— Refers to cancer or cancer cells.\n",
      "Sarcoma— A type of cancer that originates from\n",
      "connective tissue such as bone or muscle.\n",
      "Stromal— A type of tissue that is associated with the\n",
      "support of an organ.\n",
      "Tubule— Tissues and cells associated with the\n",
      "Metadata: {'producer': 'PDFlib+PDI 6.0.3 (SunOS)', 'creator': 'Adobe Acrobat 6.0', 'creationdate': '2006-10-16T20:19:33+02:00', 'moddate': '2006-10-16T22:03:45+02:00', 'source': 'data\\\\MedicalBook.pdf', 'total_pages': 4505, 'page': 4025, 'page_label': '3996'}\n",
      "--------------------------------------------------\n",
      "Document 2:\n",
      "David Kaminstein, MD\n",
      "Cancer\n",
      "Definition\n",
      "Cancer is not just one disease, but a large group of\n",
      "almost 100 diseases. Its two main characteristics are\n",
      "uncontrolled growth of the cells in the human body\n",
      "and the ability of these cells to migrate from the\n",
      "original site and spread to distant sites. If the spread\n",
      "is not controlled, cancer can result indeath.\n",
      "Description\n",
      "One out of every four deaths in the United States\n",
      "is from cancer. It is second only to heart disease as a\n",
      "Metadata: {'producer': 'PDFlib+PDI 6.0.3 (SunOS)', 'creator': 'Adobe Acrobat 6.0', 'creationdate': '2006-10-16T20:19:33+02:00', 'moddate': '2006-10-16T22:03:45+02:00', 'source': 'data\\\\MedicalBook.pdf', 'total_pages': 4505, 'page': 730, 'page_label': '701'}\n",
      "--------------------------------------------------\n",
      "Document 3:\n",
      "women), and prostate cancer (in men). In addition,\n",
      "cancer of the kidneys, ovaries, uterus, pancreas, blad-\n",
      "der, rectum, and blood and lymph node cancer (leu-\n",
      "kemias and lymphomas) are also included among the\n",
      "12 major cancers that affect most Americans.\n",
      "Cancer, by definition, is a disease of the genes.\n",
      "A gene is a small part of DNA, which is the master\n",
      "molecule of the cell. Genes make ‘‘proteins,’’ which are\n",
      "the ultimate workhorses of the cells. It is these proteins\n",
      "Metadata: {'producer': 'PDFlib+PDI 6.0.3 (SunOS)', 'creator': 'Adobe Acrobat 6.0', 'creationdate': '2006-10-16T20:19:33+02:00', 'moddate': '2006-10-16T22:03:45+02:00', 'source': 'data\\\\MedicalBook.pdf', 'total_pages': 4505, 'page': 730, 'page_label': '701'}\n",
      "--------------------------------------------------\n"
     ]
    }
   ],
   "source": [
    "from langchain_huggingface import HuggingFaceEmbeddings\n",
    "from langchain_community.vectorstores import FAISS\n",
    "\n",
    "# Load embedding model\n",
    "embedding_model = HuggingFaceEmbeddings(model_name=\"sentence-transformers/all-MiniLM-L6-v2\")\n",
    "\n",
    "# Load FAISS index\n",
    "db = FAISS.load_local(\n",
    "    \"vectorstore/db_faiss\",\n",
    "    embeddings=embedding_model,\n",
    "    allow_dangerous_deserialization=True\n",
    ")\n",
    "\n",
    "# Test query\n",
    "query = \"What is cancer?\"  # Replace with your original query\n",
    "docs = db.similarity_search(query, k=3)\n",
    "for i, doc in enumerate(docs):\n",
    "    print(f\"Document {i+1}:\")\n",
    "    print(doc.page_content)\n",
    "    print(\"Metadata:\", doc.metadata)\n",
    "    print(\"-\" * 50)"
   ]
  }
 ],
 "metadata": {
  "kernelspec": {
   "display_name": "Medical-Chatbot-iHinoZwD",
   "language": "python",
   "name": "python3"
  },
  "language_info": {
   "codemirror_mode": {
    "name": "ipython",
    "version": 3
   },
   "file_extension": ".py",
   "mimetype": "text/x-python",
   "name": "python",
   "nbconvert_exporter": "python",
   "pygments_lexer": "ipython3",
   "version": "3.12.7"
  }
 },
 "nbformat": 4,
 "nbformat_minor": 5
}
