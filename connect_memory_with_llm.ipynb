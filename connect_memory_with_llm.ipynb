{
 "cells": [
  {
   "cell_type": "code",
   "execution_count": 2,
   "id": "1a495d45",
   "metadata": {},
   "outputs": [
    {
     "name": "stdout",
     "output_type": "stream",
     "text": [
      "Requirement already satisfied: ctransformers in c:\\users\\chill\\.virtualenvs\\medical-chatbot-ihinozwd\\lib\\site-packages (0.2.27)\n",
      "Requirement already satisfied: huggingface-hub in c:\\users\\chill\\.virtualenvs\\medical-chatbot-ihinozwd\\lib\\site-packages (from ctransformers) (0.30.2)\n",
      "Requirement already satisfied: py-cpuinfo<10.0.0,>=9.0.0 in c:\\users\\chill\\.virtualenvs\\medical-chatbot-ihinozwd\\lib\\site-packages (from ctransformers) (9.0.0)\n",
      "Requirement already satisfied: filelock in c:\\users\\chill\\.virtualenvs\\medical-chatbot-ihinozwd\\lib\\site-packages (from huggingface-hub->ctransformers) (3.18.0)\n",
      "Requirement already satisfied: fsspec>=2023.5.0 in c:\\users\\chill\\.virtualenvs\\medical-chatbot-ihinozwd\\lib\\site-packages (from huggingface-hub->ctransformers) (2025.3.2)\n",
      "Requirement already satisfied: packaging>=20.9 in c:\\users\\chill\\.virtualenvs\\medical-chatbot-ihinozwd\\lib\\site-packages (from huggingface-hub->ctransformers) (24.2)\n",
      "Requirement already satisfied: pyyaml>=5.1 in c:\\users\\chill\\.virtualenvs\\medical-chatbot-ihinozwd\\lib\\site-packages (from huggingface-hub->ctransformers) (6.0.2)\n",
      "Requirement already satisfied: requests in c:\\users\\chill\\.virtualenvs\\medical-chatbot-ihinozwd\\lib\\site-packages (from huggingface-hub->ctransformers) (2.32.3)\n",
      "Requirement already satisfied: tqdm>=4.42.1 in c:\\users\\chill\\.virtualenvs\\medical-chatbot-ihinozwd\\lib\\site-packages (from huggingface-hub->ctransformers) (4.67.1)\n",
      "Requirement already satisfied: typing-extensions>=3.7.4.3 in c:\\users\\chill\\.virtualenvs\\medical-chatbot-ihinozwd\\lib\\site-packages (from huggingface-hub->ctransformers) (4.13.2)\n",
      "Requirement already satisfied: colorama in c:\\users\\chill\\.virtualenvs\\medical-chatbot-ihinozwd\\lib\\site-packages (from tqdm>=4.42.1->huggingface-hub->ctransformers) (0.4.6)\n",
      "Requirement already satisfied: charset-normalizer<4,>=2 in c:\\users\\chill\\.virtualenvs\\medical-chatbot-ihinozwd\\lib\\site-packages (from requests->huggingface-hub->ctransformers) (3.4.1)\n",
      "Requirement already satisfied: idna<4,>=2.5 in c:\\users\\chill\\.virtualenvs\\medical-chatbot-ihinozwd\\lib\\site-packages (from requests->huggingface-hub->ctransformers) (3.10)\n",
      "Requirement already satisfied: urllib3<3,>=1.21.1 in c:\\users\\chill\\.virtualenvs\\medical-chatbot-ihinozwd\\lib\\site-packages (from requests->huggingface-hub->ctransformers) (2.4.0)\n",
      "Requirement already satisfied: certifi>=2017.4.17 in c:\\users\\chill\\.virtualenvs\\medical-chatbot-ihinozwd\\lib\\site-packages (from requests->huggingface-hub->ctransformers) (2025.4.26)\n"
     ]
    },
    {
     "name": "stderr",
     "output_type": "stream",
     "text": [
      "\n",
      "[notice] A new release of pip is available: 25.1 -> 25.1.1\n",
      "[notice] To update, run: python.exe -m pip install --upgrade pip\n"
     ]
    },
    {
     "name": "stdout",
     "output_type": "stream",
     "text": [
      "Requirement already satisfied: ctransformers in c:\\users\\chill\\.virtualenvs\\medical-chatbot-ihinozwd\\lib\\site-packages (0.2.27)\n",
      "Requirement already satisfied: huggingface-hub in c:\\users\\chill\\.virtualenvs\\medical-chatbot-ihinozwd\\lib\\site-packages (from ctransformers) (0.30.2)\n",
      "Requirement already satisfied: py-cpuinfo<10.0.0,>=9.0.0 in c:\\users\\chill\\.virtualenvs\\medical-chatbot-ihinozwd\\lib\\site-packages (from ctransformers) (9.0.0)\n",
      "Requirement already satisfied: filelock in c:\\users\\chill\\.virtualenvs\\medical-chatbot-ihinozwd\\lib\\site-packages (from huggingface-hub->ctransformers) (3.18.0)\n",
      "Requirement already satisfied: fsspec>=2023.5.0 in c:\\users\\chill\\.virtualenvs\\medical-chatbot-ihinozwd\\lib\\site-packages (from huggingface-hub->ctransformers) (2025.3.2)\n",
      "Requirement already satisfied: packaging>=20.9 in c:\\users\\chill\\.virtualenvs\\medical-chatbot-ihinozwd\\lib\\site-packages (from huggingface-hub->ctransformers) (24.2)\n",
      "Requirement already satisfied: pyyaml>=5.1 in c:\\users\\chill\\.virtualenvs\\medical-chatbot-ihinozwd\\lib\\site-packages (from huggingface-hub->ctransformers) (6.0.2)\n",
      "Requirement already satisfied: requests in c:\\users\\chill\\.virtualenvs\\medical-chatbot-ihinozwd\\lib\\site-packages (from huggingface-hub->ctransformers) (2.32.3)\n",
      "Requirement already satisfied: tqdm>=4.42.1 in c:\\users\\chill\\.virtualenvs\\medical-chatbot-ihinozwd\\lib\\site-packages (from huggingface-hub->ctransformers) (4.67.1)\n",
      "Requirement already satisfied: typing-extensions>=3.7.4.3 in c:\\users\\chill\\.virtualenvs\\medical-chatbot-ihinozwd\\lib\\site-packages (from huggingface-hub->ctransformers) (4.13.2)\n",
      "Requirement already satisfied: colorama in c:\\users\\chill\\.virtualenvs\\medical-chatbot-ihinozwd\\lib\\site-packages (from tqdm>=4.42.1->huggingface-hub->ctransformers) (0.4.6)\n",
      "Requirement already satisfied: charset-normalizer<4,>=2 in c:\\users\\chill\\.virtualenvs\\medical-chatbot-ihinozwd\\lib\\site-packages (from requests->huggingface-hub->ctransformers) (3.4.1)\n",
      "Requirement already satisfied: idna<4,>=2.5 in c:\\users\\chill\\.virtualenvs\\medical-chatbot-ihinozwd\\lib\\site-packages (from requests->huggingface-hub->ctransformers) (3.10)\n",
      "Requirement already satisfied: urllib3<3,>=1.21.1 in c:\\users\\chill\\.virtualenvs\\medical-chatbot-ihinozwd\\lib\\site-packages (from requests->huggingface-hub->ctransformers) (2.4.0)\n",
      "Requirement already satisfied: certifi>=2017.4.17 in c:\\users\\chill\\.virtualenvs\\medical-chatbot-ihinozwd\\lib\\site-packages (from requests->huggingface-hub->ctransformers) (2025.4.26)\n"
     ]
    },
    {
     "name": "stderr",
     "output_type": "stream",
     "text": [
      "\n",
      "[notice] A new release of pip is available: 25.1 -> 25.1.1\n",
      "[notice] To update, run: python.exe -m pip install --upgrade pip\n"
     ]
    },
    {
     "name": "stdout",
     "output_type": "stream",
     "text": [
      "Requirement already satisfied: langchain in c:\\users\\chill\\.virtualenvs\\medical-chatbot-ihinozwd\\lib\\site-packages (0.3.24)\n",
      "Requirement already satisfied: langchain-core<1.0.0,>=0.3.55 in c:\\users\\chill\\.virtualenvs\\medical-chatbot-ihinozwd\\lib\\site-packages (from langchain) (0.3.56)\n",
      "Requirement already satisfied: langchain-text-splitters<1.0.0,>=0.3.8 in c:\\users\\chill\\.virtualenvs\\medical-chatbot-ihinozwd\\lib\\site-packages (from langchain) (0.3.8)\n",
      "Requirement already satisfied: langsmith<0.4,>=0.1.17 in c:\\users\\chill\\.virtualenvs\\medical-chatbot-ihinozwd\\lib\\site-packages (from langchain) (0.3.37)\n",
      "Requirement already satisfied: pydantic<3.0.0,>=2.7.4 in c:\\users\\chill\\.virtualenvs\\medical-chatbot-ihinozwd\\lib\\site-packages (from langchain) (2.11.3)\n",
      "Requirement already satisfied: SQLAlchemy<3,>=1.4 in c:\\users\\chill\\.virtualenvs\\medical-chatbot-ihinozwd\\lib\\site-packages (from langchain) (2.0.40)\n",
      "Requirement already satisfied: requests<3,>=2 in c:\\users\\chill\\.virtualenvs\\medical-chatbot-ihinozwd\\lib\\site-packages (from langchain) (2.32.3)\n",
      "Requirement already satisfied: PyYAML>=5.3 in c:\\users\\chill\\.virtualenvs\\medical-chatbot-ihinozwd\\lib\\site-packages (from langchain) (6.0.2)\n",
      "Requirement already satisfied: tenacity!=8.4.0,<10.0.0,>=8.1.0 in c:\\users\\chill\\.virtualenvs\\medical-chatbot-ihinozwd\\lib\\site-packages (from langchain-core<1.0.0,>=0.3.55->langchain) (9.1.2)\n",
      "Requirement already satisfied: jsonpatch<2.0,>=1.33 in c:\\users\\chill\\.virtualenvs\\medical-chatbot-ihinozwd\\lib\\site-packages (from langchain-core<1.0.0,>=0.3.55->langchain) (1.33)\n",
      "Requirement already satisfied: packaging<25,>=23.2 in c:\\users\\chill\\.virtualenvs\\medical-chatbot-ihinozwd\\lib\\site-packages (from langchain-core<1.0.0,>=0.3.55->langchain) (24.2)\n",
      "Requirement already satisfied: typing-extensions>=4.7 in c:\\users\\chill\\.virtualenvs\\medical-chatbot-ihinozwd\\lib\\site-packages (from langchain-core<1.0.0,>=0.3.55->langchain) (4.13.2)\n",
      "Requirement already satisfied: jsonpointer>=1.9 in c:\\users\\chill\\.virtualenvs\\medical-chatbot-ihinozwd\\lib\\site-packages (from jsonpatch<2.0,>=1.33->langchain-core<1.0.0,>=0.3.55->langchain) (3.0.0)\n",
      "Requirement already satisfied: httpx<1,>=0.23.0 in c:\\users\\chill\\.virtualenvs\\medical-chatbot-ihinozwd\\lib\\site-packages (from langsmith<0.4,>=0.1.17->langchain) (0.28.1)\n",
      "Requirement already satisfied: orjson<4.0.0,>=3.9.14 in c:\\users\\chill\\.virtualenvs\\medical-chatbot-ihinozwd\\lib\\site-packages (from langsmith<0.4,>=0.1.17->langchain) (3.10.16)\n",
      "Requirement already satisfied: requests-toolbelt<2.0.0,>=1.0.0 in c:\\users\\chill\\.virtualenvs\\medical-chatbot-ihinozwd\\lib\\site-packages (from langsmith<0.4,>=0.1.17->langchain) (1.0.0)\n",
      "Requirement already satisfied: zstandard<0.24.0,>=0.23.0 in c:\\users\\chill\\.virtualenvs\\medical-chatbot-ihinozwd\\lib\\site-packages (from langsmith<0.4,>=0.1.17->langchain) (0.23.0)\n",
      "Requirement already satisfied: anyio in c:\\users\\chill\\.virtualenvs\\medical-chatbot-ihinozwd\\lib\\site-packages (from httpx<1,>=0.23.0->langsmith<0.4,>=0.1.17->langchain) (4.9.0)\n",
      "Requirement already satisfied: certifi in c:\\users\\chill\\.virtualenvs\\medical-chatbot-ihinozwd\\lib\\site-packages (from httpx<1,>=0.23.0->langsmith<0.4,>=0.1.17->langchain) (2025.4.26)\n",
      "Requirement already satisfied: httpcore==1.* in c:\\users\\chill\\.virtualenvs\\medical-chatbot-ihinozwd\\lib\\site-packages (from httpx<1,>=0.23.0->langsmith<0.4,>=0.1.17->langchain) (1.0.9)\n",
      "Requirement already satisfied: idna in c:\\users\\chill\\.virtualenvs\\medical-chatbot-ihinozwd\\lib\\site-packages (from httpx<1,>=0.23.0->langsmith<0.4,>=0.1.17->langchain) (3.10)\n",
      "Requirement already satisfied: h11>=0.16 in c:\\users\\chill\\.virtualenvs\\medical-chatbot-ihinozwd\\lib\\site-packages (from httpcore==1.*->httpx<1,>=0.23.0->langsmith<0.4,>=0.1.17->langchain) (0.16.0)\n",
      "Requirement already satisfied: annotated-types>=0.6.0 in c:\\users\\chill\\.virtualenvs\\medical-chatbot-ihinozwd\\lib\\site-packages (from pydantic<3.0.0,>=2.7.4->langchain) (0.7.0)\n",
      "Requirement already satisfied: pydantic-core==2.33.1 in c:\\users\\chill\\.virtualenvs\\medical-chatbot-ihinozwd\\lib\\site-packages (from pydantic<3.0.0,>=2.7.4->langchain) (2.33.1)\n",
      "Requirement already satisfied: typing-inspection>=0.4.0 in c:\\users\\chill\\.virtualenvs\\medical-chatbot-ihinozwd\\lib\\site-packages (from pydantic<3.0.0,>=2.7.4->langchain) (0.4.0)\n",
      "Requirement already satisfied: charset-normalizer<4,>=2 in c:\\users\\chill\\.virtualenvs\\medical-chatbot-ihinozwd\\lib\\site-packages (from requests<3,>=2->langchain) (3.4.1)\n",
      "Requirement already satisfied: urllib3<3,>=1.21.1 in c:\\users\\chill\\.virtualenvs\\medical-chatbot-ihinozwd\\lib\\site-packages (from requests<3,>=2->langchain) (2.4.0)\n",
      "Requirement already satisfied: greenlet>=1 in c:\\users\\chill\\.virtualenvs\\medical-chatbot-ihinozwd\\lib\\site-packages (from SQLAlchemy<3,>=1.4->langchain) (3.2.1)\n",
      "Requirement already satisfied: sniffio>=1.1 in c:\\users\\chill\\.virtualenvs\\medical-chatbot-ihinozwd\\lib\\site-packages (from anyio->httpx<1,>=0.23.0->langsmith<0.4,>=0.1.17->langchain) (1.3.1)\n"
     ]
    },
    {
     "name": "stderr",
     "output_type": "stream",
     "text": [
      "\n",
      "[notice] A new release of pip is available: 25.1 -> 25.1.1\n",
      "[notice] To update, run: python.exe -m pip install --upgrade pip\n"
     ]
    },
    {
     "name": "stdout",
     "output_type": "stream",
     "text": [
      "Requirement already satisfied: faiss-cpu in c:\\users\\chill\\.virtualenvs\\medical-chatbot-ihinozwd\\lib\\site-packages (1.10.0)\n",
      "Requirement already satisfied: numpy<3.0,>=1.25.0 in c:\\users\\chill\\.virtualenvs\\medical-chatbot-ihinozwd\\lib\\site-packages (from faiss-cpu) (2.2.5)\n",
      "Requirement already satisfied: packaging in c:\\users\\chill\\.virtualenvs\\medical-chatbot-ihinozwd\\lib\\site-packages (from faiss-cpu) (24.2)\n"
     ]
    },
    {
     "name": "stderr",
     "output_type": "stream",
     "text": [
      "\n",
      "[notice] A new release of pip is available: 25.1 -> 25.1.1\n",
      "[notice] To update, run: python.exe -m pip install --upgrade pip\n",
      "ERROR: Could not find a version that satisfies the requirement faiss-gpu (from versions: none)\n",
      "\n",
      "[notice] A new release of pip is available: 25.1 -> 25.1.1\n",
      "[notice] To update, run: python.exe -m pip install --upgrade pip\n",
      "ERROR: No matching distribution found for faiss-gpu\n"
     ]
    },
    {
     "name": "stdout",
     "output_type": "stream",
     "text": [
      "Requirement already satisfied: sentence-transformers in c:\\users\\chill\\.virtualenvs\\medical-chatbot-ihinozwd\\lib\\site-packages (4.1.0)\n",
      "Requirement already satisfied: transformers<5.0.0,>=4.41.0 in c:\\users\\chill\\.virtualenvs\\medical-chatbot-ihinozwd\\lib\\site-packages (from sentence-transformers) (4.51.3)\n",
      "Requirement already satisfied: tqdm in c:\\users\\chill\\.virtualenvs\\medical-chatbot-ihinozwd\\lib\\site-packages (from sentence-transformers) (4.67.1)\n",
      "Requirement already satisfied: torch>=1.11.0 in c:\\users\\chill\\.virtualenvs\\medical-chatbot-ihinozwd\\lib\\site-packages (from sentence-transformers) (2.7.0)\n",
      "Requirement already satisfied: scikit-learn in c:\\users\\chill\\.virtualenvs\\medical-chatbot-ihinozwd\\lib\\site-packages (from sentence-transformers) (1.6.1)\n",
      "Requirement already satisfied: scipy in c:\\users\\chill\\.virtualenvs\\medical-chatbot-ihinozwd\\lib\\site-packages (from sentence-transformers) (1.15.2)\n",
      "Requirement already satisfied: huggingface-hub>=0.20.0 in c:\\users\\chill\\.virtualenvs\\medical-chatbot-ihinozwd\\lib\\site-packages (from sentence-transformers) (0.30.2)\n",
      "Requirement already satisfied: Pillow in c:\\users\\chill\\.virtualenvs\\medical-chatbot-ihinozwd\\lib\\site-packages (from sentence-transformers) (11.2.1)\n",
      "Requirement already satisfied: typing_extensions>=4.5.0 in c:\\users\\chill\\.virtualenvs\\medical-chatbot-ihinozwd\\lib\\site-packages (from sentence-transformers) (4.13.2)\n",
      "Requirement already satisfied: filelock in c:\\users\\chill\\.virtualenvs\\medical-chatbot-ihinozwd\\lib\\site-packages (from transformers<5.0.0,>=4.41.0->sentence-transformers) (3.18.0)\n",
      "Requirement already satisfied: numpy>=1.17 in c:\\users\\chill\\.virtualenvs\\medical-chatbot-ihinozwd\\lib\\site-packages (from transformers<5.0.0,>=4.41.0->sentence-transformers) (2.2.5)\n",
      "Requirement already satisfied: packaging>=20.0 in c:\\users\\chill\\.virtualenvs\\medical-chatbot-ihinozwd\\lib\\site-packages (from transformers<5.0.0,>=4.41.0->sentence-transformers) (24.2)\n",
      "Requirement already satisfied: pyyaml>=5.1 in c:\\users\\chill\\.virtualenvs\\medical-chatbot-ihinozwd\\lib\\site-packages (from transformers<5.0.0,>=4.41.0->sentence-transformers) (6.0.2)\n",
      "Requirement already satisfied: regex!=2019.12.17 in c:\\users\\chill\\.virtualenvs\\medical-chatbot-ihinozwd\\lib\\site-packages (from transformers<5.0.0,>=4.41.0->sentence-transformers) (2024.11.6)\n",
      "Requirement already satisfied: requests in c:\\users\\chill\\.virtualenvs\\medical-chatbot-ihinozwd\\lib\\site-packages (from transformers<5.0.0,>=4.41.0->sentence-transformers) (2.32.3)\n",
      "Requirement already satisfied: tokenizers<0.22,>=0.21 in c:\\users\\chill\\.virtualenvs\\medical-chatbot-ihinozwd\\lib\\site-packages (from transformers<5.0.0,>=4.41.0->sentence-transformers) (0.21.1)\n",
      "Requirement already satisfied: safetensors>=0.4.3 in c:\\users\\chill\\.virtualenvs\\medical-chatbot-ihinozwd\\lib\\site-packages (from transformers<5.0.0,>=4.41.0->sentence-transformers) (0.5.3)\n",
      "Requirement already satisfied: fsspec>=2023.5.0 in c:\\users\\chill\\.virtualenvs\\medical-chatbot-ihinozwd\\lib\\site-packages (from huggingface-hub>=0.20.0->sentence-transformers) (2025.3.2)\n",
      "Requirement already satisfied: sympy>=1.13.3 in c:\\users\\chill\\.virtualenvs\\medical-chatbot-ihinozwd\\lib\\site-packages (from torch>=1.11.0->sentence-transformers) (1.13.3)\n",
      "Requirement already satisfied: networkx in c:\\users\\chill\\.virtualenvs\\medical-chatbot-ihinozwd\\lib\\site-packages (from torch>=1.11.0->sentence-transformers) (3.4.2)\n",
      "Requirement already satisfied: jinja2 in c:\\users\\chill\\.virtualenvs\\medical-chatbot-ihinozwd\\lib\\site-packages (from torch>=1.11.0->sentence-transformers) (3.1.6)\n",
      "Requirement already satisfied: setuptools in c:\\users\\chill\\.virtualenvs\\medical-chatbot-ihinozwd\\lib\\site-packages (from torch>=1.11.0->sentence-transformers) (79.0.1)\n",
      "Requirement already satisfied: mpmath<1.4,>=1.1.0 in c:\\users\\chill\\.virtualenvs\\medical-chatbot-ihinozwd\\lib\\site-packages (from sympy>=1.13.3->torch>=1.11.0->sentence-transformers) (1.3.0)\n",
      "Requirement already satisfied: colorama in c:\\users\\chill\\.virtualenvs\\medical-chatbot-ihinozwd\\lib\\site-packages (from tqdm->sentence-transformers) (0.4.6)\n",
      "Requirement already satisfied: MarkupSafe>=2.0 in c:\\users\\chill\\.virtualenvs\\medical-chatbot-ihinozwd\\lib\\site-packages (from jinja2->torch>=1.11.0->sentence-transformers) (3.0.2)\n",
      "Requirement already satisfied: charset-normalizer<4,>=2 in c:\\users\\chill\\.virtualenvs\\medical-chatbot-ihinozwd\\lib\\site-packages (from requests->transformers<5.0.0,>=4.41.0->sentence-transformers) (3.4.1)\n",
      "Requirement already satisfied: idna<4,>=2.5 in c:\\users\\chill\\.virtualenvs\\medical-chatbot-ihinozwd\\lib\\site-packages (from requests->transformers<5.0.0,>=4.41.0->sentence-transformers) (3.10)\n",
      "Requirement already satisfied: urllib3<3,>=1.21.1 in c:\\users\\chill\\.virtualenvs\\medical-chatbot-ihinozwd\\lib\\site-packages (from requests->transformers<5.0.0,>=4.41.0->sentence-transformers) (2.4.0)\n",
      "Requirement already satisfied: certifi>=2017.4.17 in c:\\users\\chill\\.virtualenvs\\medical-chatbot-ihinozwd\\lib\\site-packages (from requests->transformers<5.0.0,>=4.41.0->sentence-transformers) (2025.4.26)\n",
      "Requirement already satisfied: joblib>=1.2.0 in c:\\users\\chill\\.virtualenvs\\medical-chatbot-ihinozwd\\lib\\site-packages (from scikit-learn->sentence-transformers) (1.4.2)\n",
      "Requirement already satisfied: threadpoolctl>=3.1.0 in c:\\users\\chill\\.virtualenvs\\medical-chatbot-ihinozwd\\lib\\site-packages (from scikit-learn->sentence-transformers) (3.6.0)\n"
     ]
    },
    {
     "name": "stderr",
     "output_type": "stream",
     "text": [
      "\n",
      "[notice] A new release of pip is available: 25.1 -> 25.1.1\n",
      "[notice] To update, run: python.exe -m pip install --upgrade pip\n"
     ]
    },
    {
     "name": "stdout",
     "output_type": "stream",
     "text": [
      "Requirement already satisfied: transformers in c:\\users\\chill\\.virtualenvs\\medical-chatbot-ihinozwd\\lib\\site-packages (4.51.3)\n",
      "Requirement already satisfied: filelock in c:\\users\\chill\\.virtualenvs\\medical-chatbot-ihinozwd\\lib\\site-packages (from transformers) (3.18.0)\n",
      "Requirement already satisfied: huggingface-hub<1.0,>=0.30.0 in c:\\users\\chill\\.virtualenvs\\medical-chatbot-ihinozwd\\lib\\site-packages (from transformers) (0.30.2)\n",
      "Requirement already satisfied: numpy>=1.17 in c:\\users\\chill\\.virtualenvs\\medical-chatbot-ihinozwd\\lib\\site-packages (from transformers) (2.2.5)\n",
      "Requirement already satisfied: packaging>=20.0 in c:\\users\\chill\\.virtualenvs\\medical-chatbot-ihinozwd\\lib\\site-packages (from transformers) (24.2)\n",
      "Requirement already satisfied: pyyaml>=5.1 in c:\\users\\chill\\.virtualenvs\\medical-chatbot-ihinozwd\\lib\\site-packages (from transformers) (6.0.2)\n",
      "Requirement already satisfied: regex!=2019.12.17 in c:\\users\\chill\\.virtualenvs\\medical-chatbot-ihinozwd\\lib\\site-packages (from transformers) (2024.11.6)\n",
      "Requirement already satisfied: requests in c:\\users\\chill\\.virtualenvs\\medical-chatbot-ihinozwd\\lib\\site-packages (from transformers) (2.32.3)\n",
      "Requirement already satisfied: tokenizers<0.22,>=0.21 in c:\\users\\chill\\.virtualenvs\\medical-chatbot-ihinozwd\\lib\\site-packages (from transformers) (0.21.1)\n",
      "Requirement already satisfied: safetensors>=0.4.3 in c:\\users\\chill\\.virtualenvs\\medical-chatbot-ihinozwd\\lib\\site-packages (from transformers) (0.5.3)\n",
      "Requirement already satisfied: tqdm>=4.27 in c:\\users\\chill\\.virtualenvs\\medical-chatbot-ihinozwd\\lib\\site-packages (from transformers) (4.67.1)\n",
      "Requirement already satisfied: fsspec>=2023.5.0 in c:\\users\\chill\\.virtualenvs\\medical-chatbot-ihinozwd\\lib\\site-packages (from huggingface-hub<1.0,>=0.30.0->transformers) (2025.3.2)\n",
      "Requirement already satisfied: typing-extensions>=3.7.4.3 in c:\\users\\chill\\.virtualenvs\\medical-chatbot-ihinozwd\\lib\\site-packages (from huggingface-hub<1.0,>=0.30.0->transformers) (4.13.2)\n",
      "Requirement already satisfied: colorama in c:\\users\\chill\\.virtualenvs\\medical-chatbot-ihinozwd\\lib\\site-packages (from tqdm>=4.27->transformers) (0.4.6)\n",
      "Requirement already satisfied: charset-normalizer<4,>=2 in c:\\users\\chill\\.virtualenvs\\medical-chatbot-ihinozwd\\lib\\site-packages (from requests->transformers) (3.4.1)\n",
      "Requirement already satisfied: idna<4,>=2.5 in c:\\users\\chill\\.virtualenvs\\medical-chatbot-ihinozwd\\lib\\site-packages (from requests->transformers) (3.10)\n",
      "Requirement already satisfied: urllib3<3,>=1.21.1 in c:\\users\\chill\\.virtualenvs\\medical-chatbot-ihinozwd\\lib\\site-packages (from requests->transformers) (2.4.0)\n",
      "Requirement already satisfied: certifi>=2017.4.17 in c:\\users\\chill\\.virtualenvs\\medical-chatbot-ihinozwd\\lib\\site-packages (from requests->transformers) (2025.4.26)\n"
     ]
    },
    {
     "name": "stderr",
     "output_type": "stream",
     "text": [
      "\n",
      "[notice] A new release of pip is available: 25.1 -> 25.1.1\n",
      "[notice] To update, run: python.exe -m pip install --upgrade pip\n"
     ]
    },
    {
     "name": "stdout",
     "output_type": "stream",
     "text": [
      "Requirement already satisfied: torch in c:\\users\\chill\\.virtualenvs\\medical-chatbot-ihinozwd\\lib\\site-packages (2.7.0)\n",
      "Requirement already satisfied: filelock in c:\\users\\chill\\.virtualenvs\\medical-chatbot-ihinozwd\\lib\\site-packages (from torch) (3.18.0)\n",
      "Requirement already satisfied: typing-extensions>=4.10.0 in c:\\users\\chill\\.virtualenvs\\medical-chatbot-ihinozwd\\lib\\site-packages (from torch) (4.13.2)\n",
      "Requirement already satisfied: sympy>=1.13.3 in c:\\users\\chill\\.virtualenvs\\medical-chatbot-ihinozwd\\lib\\site-packages (from torch) (1.13.3)\n",
      "Requirement already satisfied: networkx in c:\\users\\chill\\.virtualenvs\\medical-chatbot-ihinozwd\\lib\\site-packages (from torch) (3.4.2)\n",
      "Requirement already satisfied: jinja2 in c:\\users\\chill\\.virtualenvs\\medical-chatbot-ihinozwd\\lib\\site-packages (from torch) (3.1.6)\n",
      "Requirement already satisfied: fsspec in c:\\users\\chill\\.virtualenvs\\medical-chatbot-ihinozwd\\lib\\site-packages (from torch) (2025.3.2)\n",
      "Requirement already satisfied: setuptools in c:\\users\\chill\\.virtualenvs\\medical-chatbot-ihinozwd\\lib\\site-packages (from torch) (79.0.1)\n",
      "Requirement already satisfied: mpmath<1.4,>=1.1.0 in c:\\users\\chill\\.virtualenvs\\medical-chatbot-ihinozwd\\lib\\site-packages (from sympy>=1.13.3->torch) (1.3.0)\n",
      "Requirement already satisfied: MarkupSafe>=2.0 in c:\\users\\chill\\.virtualenvs\\medical-chatbot-ihinozwd\\lib\\site-packages (from jinja2->torch) (3.0.2)\n"
     ]
    },
    {
     "name": "stderr",
     "output_type": "stream",
     "text": [
      "\n",
      "[notice] A new release of pip is available: 25.1 -> 25.1.1\n",
      "[notice] To update, run: python.exe -m pip install --upgrade pip\n"
     ]
    }
   ],
   "source": [
    "!pip install ctransformers\n",
    "!pip install ctransformers\n",
    "!pip install langchain\n",
    "!pip install faiss-cpu\n",
    "!pip install faiss-gpu\n",
    "!pip install sentence-transformers\n",
    "!pip install transformers\n",
    "!pip install torch\n",
    "\n"
   ]
  },
  {
   "cell_type": "code",
   "execution_count": 45,
   "id": "abf30734",
   "metadata": {},
   "outputs": [
    {
     "name": "stdout",
     "output_type": "stream",
     "text": [
      "\n",
      "RESULT:\n",
      " There are several methods for removing warts, including:\n",
      "1. Numbing the skin and then scraping off the wart: This is a common method for removing small to medium-sized warts. The area is numbed with a local anesthetic, and then the wart is scrapped off with a scalpel or cryotherapy tool.\n",
      "2. Electrocautery (electric burning): This method involves using an electric needle to burn\n",
      "\n",
      "SOURCE DOCUMENTS:\n",
      "- data\\MedicalBook.pdf\n"
     ]
    }
   ],
   "source": [
    "from langchain.llms import CTransformers\n",
    "from langchain.prompts import PromptTemplate\n",
    "from langchain.chains import RetrievalQA\n",
    "from langchain.vectorstores import FAISS\n",
    "from langchain.embeddings import HuggingFaceEmbeddings\n",
    "from langchain.chains.llm import LLMChain\n",
    "from langchain.chains.combine_documents.stuff import StuffDocumentsChain\n",
    "\n",
    "# Step 1: Load LLaMA model with optimized settings\n",
    "def load_llm_local():\n",
    "    return CTransformers(\n",
    "        model=\"C:/Users/chill/llama/llama-2-7b-chat.Q4_K_M.gguf\",\n",
    "        model_type=\"llama\",\n",
    "        config={\n",
    "            \"max_new_tokens\": 100,  # Reduced for speed\n",
    "            \"temperature\": 0.7,\n",
    "            \"top_p\": 0.95\n",
    "        }\n",
    "    )\n",
    "\n",
    "# Step 2: Simplified prompt\n",
    "custom_prompt_template = PromptTemplate(\n",
    "    template=\"\"\"\n",
    "<s>[INST] Use the context to answer: {context}\n",
    "Question: {question} [/INST]\n",
    "\"\"\",\n",
    "    input_variables=[\"context\", \"question\"]\n",
    ")\n",
    "\n",
    "# Step 3: Load FAISS vector store\n",
    "embedding_model = HuggingFaceEmbeddings(model_name=\"sentence-transformers/all-MiniLM-L6-v2\")\n",
    "db = FAISS.load_local(\"vectorstore/db_faiss\", embeddings=embedding_model, allow_dangerous_deserialization=True)\n",
    "\n",
    "# Step 4: Wrap LLM in a chain\n",
    "llm = load_llm_local()\n",
    "llm_chain = LLMChain(llm=llm, prompt=custom_prompt_template)\n",
    "stuff_chain = StuffDocumentsChain(llm_chain=llm_chain, document_variable_name=\"context\")\n",
    "\n",
    "# Step 5: Build RetrievalQA with k=1\n",
    "retriever = db.as_retriever(search_kwargs={\"k\": 1})\n",
    "qa_chain = RetrievalQA(\n",
    "    retriever=retriever,\n",
    "    combine_documents_chain=stuff_chain,\n",
    "    return_source_documents=True,\n",
    "    input_key=\"question\"\n",
    ")\n",
    "\n",
    "# Step 6: Run the query\n",
    "user_query = input(\"Enter your question: \")\n",
    "response = qa_chain.invoke({\"question\": user_query})\n",
    "\n",
    "# Step 7: Print the answer and source documents\n",
    "print(\"\\nRESULT:\\n\", response[\"result\"])\n",
    "print(\"\\nSOURCE DOCUMENTS:\")\n",
    "for doc in response[\"source_documents\"]:\n",
    "    print(\"-\", doc.metadata.get(\"source\", \"Unknown\"))"
   ]
  }
 ],
 "metadata": {
  "kernelspec": {
   "display_name": "Medical-Chatbot-iHinoZwD",
   "language": "python",
   "name": "python3"
  },
  "language_info": {
   "codemirror_mode": {
    "name": "ipython",
    "version": 3
   },
   "file_extension": ".py",
   "mimetype": "text/x-python",
   "name": "python",
   "nbconvert_exporter": "python",
   "pygments_lexer": "ipython3",
   "version": "3.12.7"
  }
 },
 "nbformat": 4,
 "nbformat_minor": 5
}
